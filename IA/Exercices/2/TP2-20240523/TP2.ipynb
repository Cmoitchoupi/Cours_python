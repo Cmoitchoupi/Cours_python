{
 "cells": [
  {
   "cell_type": "markdown",
   "id": "1c3b417a",
   "metadata": {},
   "source": [
    "# Bases de l'IA TP 2\n",
    "\n",
    "## Manipulation de tableaux avec Pandas\n",
    "\n",
    "\n",
    "> - [Documentation Pandas](https://pandas.pydata.org/)  \n",
    "\n",
    "\n",
    "La manipulation de données est une partie importante de l'IA. Il faut souvent récupérer des données de différentes sources, les lier, les transformer et les agréger afin d'obtenir des jeux de données (dataset). Ces jeux de données seront ensuite utilisés pour entrainer et tester des modèles d'IA. En termes de temps, lorsque l'on travaille sur des modèles d'IA, la préparation des données peut représenter 80% du temps. C'est donc une phase qui est longue, fastidieuse, ou l'on peut aussi facilement se tromper.\n",
    "\n",
    "Dans ce TP, nous allons utiliser le package Pandas, qui permet de travailler sur des 'dataframes'. Les dataframes sont des tableaux qui, comme un tableau Excel, permettent de recueillir différents types de données (numérique, chaine de caractères...).\n"
   ]
  },
  {
   "cell_type": "code",
   "execution_count": null,
   "id": "d2cf2ec2",
   "metadata": {},
   "outputs": [],
   "source": [
    "import pandas as pd\n",
    "import numpy as np"
   ]
  },
  {
   "cell_type": "markdown",
   "id": "6b2a5627",
   "metadata": {},
   "source": [
    "## Un peu de gymnastique\n",
    "\n",
    "L'utilisation des dataframes Pandas demande de connaitre quelques méthodes de bases pour: \n",
    "- créer des dataframes\n",
    "- filtrer les lignes et les colonnes\n",
    "- rajouter des colonnes\n",
    "- concatener des dataframes\n",
    "- fusionner des dataframes\n",
    "\n",
    "### création de dataframes"
   ]
  },
  {
   "cell_type": "code",
   "execution_count": null,
   "id": "66f1b4b8",
   "metadata": {},
   "outputs": [],
   "source": [
    "# une dataframe vide\n",
    "ma_dataframe = pd.DataFrame([])"
   ]
  },
  {
   "cell_type": "markdown",
   "id": "9e2d6439",
   "metadata": {},
   "source": [
    "Créez une dataframe à partir d'un tableau numpy de 3 colonnes et 4 lignes. Nommez les colonnes : col_un, col_deux, col_trois. \n",
    "Utilisez les valeurs suivantes.\n",
    "\n",
    "||||\n",
    "|---|---|---|\n",
    "|1|9|7|\n",
    "|2|7|8|\n",
    "|3|5|5|\n",
    "|4|2|4|\n",
    "\n",
    "Chaque dafaframe utilise un index, cet index permet d'identifier les lignes (comme dans une table de base de données). Par défaut, si on ne précise rien, quel index sera créé ? Comment récupérer l'index d'une dataframe?\n"
   ]
  },
  {
   "cell_type": "code",
   "execution_count": null,
   "id": "22738c88",
   "metadata": {},
   "outputs": [],
   "source": []
  },
  {
   "cell_type": "markdown",
   "id": "5a2726b2",
   "metadata": {},
   "source": [
    "comment afficher le nom des colonnes?\n",
    "\n",
    "comment afficher le nombre de colonnes et de lignes?\n",
    "\n",
    "comment obtenir des informations sur la dataframe? Quelle est la taille de la dataframe en bytes? "
   ]
  },
  {
   "cell_type": "code",
   "execution_count": null,
   "id": "e6bce8d7",
   "metadata": {},
   "outputs": [],
   "source": []
  },
  {
   "cell_type": "code",
   "execution_count": null,
   "id": "12e501db",
   "metadata": {},
   "outputs": [],
   "source": []
  },
  {
   "cell_type": "code",
   "execution_count": null,
   "id": "63523584",
   "metadata": {},
   "outputs": [],
   "source": []
  },
  {
   "cell_type": "markdown",
   "id": "de03de20",
   "metadata": {},
   "source": [
    "Quel est le type de données de cette dataframe?"
   ]
  },
  {
   "cell_type": "code",
   "execution_count": null,
   "id": "10b9fee0",
   "metadata": {},
   "outputs": [],
   "source": []
  },
  {
   "cell_type": "markdown",
   "id": "d6a0234c",
   "metadata": {},
   "source": [
    "Quelle est le type de donnée d'une colonne?"
   ]
  },
  {
   "cell_type": "code",
   "execution_count": null,
   "id": "99cd7da0",
   "metadata": {},
   "outputs": [],
   "source": []
  },
  {
   "cell_type": "markdown",
   "id": "74564e9a",
   "metadata": {},
   "source": [
    "Quel est le type de donnée de la dataframe avec la propriété values? (.values)"
   ]
  },
  {
   "cell_type": "code",
   "execution_count": null,
   "id": "e40777e2",
   "metadata": {},
   "outputs": [],
   "source": []
  },
  {
   "cell_type": "markdown",
   "id": "c6013635",
   "metadata": {},
   "source": [
    "### filtrage\n",
    "\n",
    "En utilisant l'opérateur .iloc []  afficher: \n",
    "- la premiere ligne\n",
    "- les 2 premieres lignes\n",
    "- la prémiere colonne\n",
    "- la dernire colonne\n",
    "- les 2 dernieres lignes et les 2 premieres colonnes"
   ]
  },
  {
   "cell_type": "code",
   "execution_count": null,
   "id": "4a4d3f31",
   "metadata": {},
   "outputs": [],
   "source": []
  },
  {
   "cell_type": "markdown",
   "id": "9652392a",
   "metadata": {},
   "source": [
    "En utilisant l'opérateur .loc []  afficher: \n",
    "- la colonne col_un\n",
    "- les colonnes col_un et col_trois\n",
    "- la colonne col_deux pour les lignes dont la colonne 1 est pair"
   ]
  },
  {
   "cell_type": "code",
   "execution_count": null,
   "id": "c262501b",
   "metadata": {},
   "outputs": [],
   "source": []
  },
  {
   "cell_type": "markdown",
   "id": "65da1397",
   "metadata": {},
   "source": [
    "### ajout de colonnes\n",
    "\n",
    "On va rajouter une nouvelle colonne jour. \n",
    "\n",
    "Elle aura pour valeurs lundi, mardi, mecredi, jeudi\n",
    "\n",
    "Il y a différentes façon de rajouter une colonne. \n",
    "\n",
    "- Essayer avec .loc, ou se place la nouvelle colonne?\n",
    "\n",
    "- Effacez ensuite la nouvelle colonne créé avec drop\n",
    "\n",
    "- Essayer avec [ ], ou se place la nouvelle colonne?\n",
    "\n",
    "- Effacez ensuite la nouvelle colonne créé avec drop\n",
    "\n",
    "- Essayer avec insert, et placez la colonne en prémiere position\n"
   ]
  },
  {
   "cell_type": "code",
   "execution_count": null,
   "id": "47e618b3",
   "metadata": {},
   "outputs": [],
   "source": []
  },
  {
   "cell_type": "markdown",
   "id": "6837f762",
   "metadata": {},
   "source": [
    "### concaténation\n",
    "\n",
    "Créez maintenant une deuxieme dataframe avec les mêmes colonnes et avec comme valeurs pour jour: vendredi, samedi, dimanche"
   ]
  },
  {
   "cell_type": "code",
   "execution_count": null,
   "id": "dc14cb0c",
   "metadata": {},
   "outputs": [],
   "source": []
  },
  {
   "cell_type": "markdown",
   "id": "dc8b096d",
   "metadata": {},
   "source": [
    "Avec la méthode concat() de Pandas, créez une seule dataframe contenant toutes les lignes des 2 dataframes précedentes. On veut un index unique dans cette nouvelle dataframe. Appelez cette dataframe 'ma_dataframe_complete'"
   ]
  },
  {
   "cell_type": "code",
   "execution_count": null,
   "id": "86516cc0",
   "metadata": {},
   "outputs": [],
   "source": []
  },
  {
   "cell_type": "code",
   "execution_count": null,
   "id": "6b3b8880",
   "metadata": {},
   "outputs": [],
   "source": []
  },
  {
   "cell_type": "markdown",
   "id": "0285d626",
   "metadata": {},
   "source": [
    "### fusion de dataframes\n",
    "\n",
    "Créez une nouvelle dataframe, contenant 4 lignes et 2 colonnes: jour et couleur\n",
    "\n",
    "lundi  rouge\n",
    "\n",
    "mardi  vert\n",
    "\n",
    "samedi  bleu\n",
    "\n",
    "dimanche  jaune"
   ]
  },
  {
   "cell_type": "code",
   "execution_count": null,
   "id": "946c95f4",
   "metadata": {},
   "outputs": [],
   "source": []
  },
  {
   "cell_type": "markdown",
   "id": "a4f56ecc",
   "metadata": {},
   "source": [
    "En utilisant la méthode merge, fusionnez cette nouvelle dataframe avec ma_dataframe_complete de maniére à: \n",
    "\n",
    "- avoir que les lignes en commun entre les 2 dataframes\n",
    "- avoir toutes les lignes de ma_dataframe_complete. Sauvegardez cette dataframe comme étant ma_dataframe_complete\n"
   ]
  },
  {
   "cell_type": "code",
   "execution_count": null,
   "id": "4cbd978d",
   "metadata": {},
   "outputs": [],
   "source": []
  },
  {
   "cell_type": "code",
   "execution_count": null,
   "id": "206021b1",
   "metadata": {},
   "outputs": [],
   "source": []
  },
  {
   "cell_type": "markdown",
   "id": "9fe7819b",
   "metadata": {},
   "source": [
    "Utilisez la méthode isna() et 2 fois la méthode sum() pour compter le nombre de valeurs manquantes 'NaN'."
   ]
  },
  {
   "cell_type": "code",
   "execution_count": null,
   "id": "133a9ab1",
   "metadata": {},
   "outputs": [],
   "source": []
  },
  {
   "cell_type": "markdown",
   "id": "b3febc98",
   "metadata": {},
   "source": [
    "Remplacez les valeurs NaN par 'blanc'"
   ]
  },
  {
   "cell_type": "code",
   "execution_count": null,
   "id": "544c7222",
   "metadata": {},
   "outputs": [],
   "source": []
  },
  {
   "cell_type": "code",
   "execution_count": null,
   "id": "740531ae",
   "metadata": {},
   "outputs": [],
   "source": []
  },
  {
   "cell_type": "markdown",
   "id": "13ed4bf4",
   "metadata": {},
   "source": [
    "## Travail sur un dataset existant\n",
    "\n",
    "Utilisez la méthode read_csv  de Pandas pour charger le dataset contenu dans le fichier \"penguins_size.csv\". Nommez la dataframe \"penguins\".\n",
    "C'est un dataset contenant des informations sur des pinguins: espèce, ile, 3 mesures, le poids et le sexe. \n",
    "C'est un dataset très utilisé pour s'exercer sur des algorithmes de classification."
   ]
  },
  {
   "cell_type": "code",
   "execution_count": null,
   "id": "29ab26ee",
   "metadata": {},
   "outputs": [],
   "source": []
  },
  {
   "cell_type": "markdown",
   "id": "9dc28802",
   "metadata": {},
   "source": [
    "Utilisez les méthodes head() et tail() pour afficher les 7 premieres et 7 dernieres lignes"
   ]
  },
  {
   "cell_type": "code",
   "execution_count": null,
   "id": "1081f438",
   "metadata": {},
   "outputs": [],
   "source": []
  },
  {
   "cell_type": "markdown",
   "id": "7dce2919",
   "metadata": {},
   "source": [
    "Utilisez les méthodes nlargest et nsmallest pour afficher les 3 poids les plus important; et les 3 poids les plus faibles. "
   ]
  },
  {
   "cell_type": "code",
   "execution_count": null,
   "id": "42b09927",
   "metadata": {},
   "outputs": [],
   "source": []
  },
  {
   "cell_type": "markdown",
   "id": "352d08c3",
   "metadata": {},
   "source": [
    "Répondez à ces questions:\n",
    "- combien y a t il de lignes? de colonnes?\n",
    "- quelle est la taille de la dataframe en mémoire vive?\n",
    "- quel est le type de données pour chaque colonne?"
   ]
  },
  {
   "cell_type": "code",
   "execution_count": null,
   "id": "d01ccc84",
   "metadata": {},
   "outputs": [],
   "source": []
  },
  {
   "cell_type": "markdown",
   "id": "4899711f",
   "metadata": {},
   "source": [
    "Y a t il des données manquantes (NaN)? Combien?"
   ]
  },
  {
   "cell_type": "code",
   "execution_count": null,
   "id": "4e887c5e",
   "metadata": {},
   "outputs": [],
   "source": []
  },
  {
   "cell_type": "markdown",
   "id": "3d8037ce",
   "metadata": {},
   "source": [
    "Comment avoir simplement, pour les 4 valuers numériques:\n",
    "    - la moyenne\n",
    "    - la mediane\n",
    "    - la valeur max\n",
    "    - la valuer min"
   ]
  },
  {
   "cell_type": "code",
   "execution_count": null,
   "id": "0656a3d4",
   "metadata": {},
   "outputs": [],
   "source": []
  },
  {
   "cell_type": "markdown",
   "id": "7cfbd810",
   "metadata": {},
   "source": [
    "En utilisant la méthode groupby: \n",
    "- quelles sont les moyennes des 4 variables numériques par espece? Par île? Par sexe?\n",
    "- quelles sont les valeurs medianes des 4 variables numériques par espece? Par île? Par sexe?"
   ]
  },
  {
   "cell_type": "code",
   "execution_count": null,
   "id": "96c0577c",
   "metadata": {},
   "outputs": [],
   "source": []
  },
  {
   "cell_type": "markdown",
   "id": "fc8bfaff",
   "metadata": {},
   "source": [
    "### Standardisation des données. \n",
    "\n",
    "Il est souvent pratique et aussi indispensable pour certains algorithmes d'apprentissage de standardiser les données. Standardiser, c'est centrer les données et les réduire, c'est à dire que pour une variable donnée, on retranche pour chaque valeur, la moyenne de la variable, et on divise par l'écart type. Après cette transformation, la moyenne de la variable est ainsi zéro, et son écart type est 1. \n",
    "\n",
    "En utilisant copy(), créer une nouvelle dataframe 'penguins_standardized'. Standardisez les 4 variables numériques en faisant des opérations sur les 4 colonnes numériques.\n",
    "\n",
    "Vérifiez que la moyenne de chaque variable est zéro et que l'écart type est 1.\n"
   ]
  },
  {
   "cell_type": "code",
   "execution_count": null,
   "id": "50fd22dc",
   "metadata": {},
   "outputs": [],
   "source": []
  },
  {
   "cell_type": "markdown",
   "id": "97eb1324",
   "metadata": {},
   "source": [
    "Sauvergardez cette dataframe en .csv en utilisant la méthode to_csv. Attention de ne par garder l'index dans le fichier csv."
   ]
  },
  {
   "cell_type": "code",
   "execution_count": null,
   "id": "2421fecf",
   "metadata": {},
   "outputs": [],
   "source": []
  },
  {
   "cell_type": "markdown",
   "id": "45db81ab",
   "metadata": {},
   "source": [
    "# Matplotlib"
   ]
  },
  {
   "cell_type": "markdown",
   "id": "6d731c70",
   "metadata": {},
   "source": [
    "### Visualisation avec Matplotlib\n",
    "\n",
    "> - [Documentation Matplotlib](http://matplotlib.org/)  \n",
    "\n",
    "\n",
    "\n",
    "Matplotlib permet de construire de très nombreux types de graphiques directement à partir de l’interpréteur Python et nous sera très utile pour visualiser des données, des fonctions de décision, etc. Nous nous servirons principalement de `matplotlib.pyplot`, à importer en début de session :"
   ]
  },
  {
   "cell_type": "markdown",
   "id": "820ff04c",
   "metadata": {},
   "source": [
    "To install it: \n",
    "conda install matplotlib or pip install matplotlib"
   ]
  },
  {
   "cell_type": "code",
   "execution_count": null,
   "id": "ad8bf240",
   "metadata": {},
   "outputs": [],
   "source": [
    "import matplotlib.pyplot as plt"
   ]
  },
  {
   "cell_type": "markdown",
   "id": "7a599bbe",
   "metadata": {},
   "source": [
    "Construisons d’abord un graphique très simple :"
   ]
  },
  {
   "cell_type": "code",
   "execution_count": null,
   "id": "ba1eeb77",
   "metadata": {},
   "outputs": [],
   "source": [
    "plt.plot(np.random.rand(100))  # données générées aléatoirement\n",
    "plt.show()                     # affichage du graphique"
   ]
  },
  {
   "cell_type": "markdown",
   "id": "3a50f176",
   "metadata": {},
   "source": [
    "En utilisant la méthode hist(), afficher l'histogrammes de la variable 'culmen_length_mm' de la dataframe penguins (utilisez 10 bins). "
   ]
  },
  {
   "cell_type": "code",
   "execution_count": null,
   "id": "a7cd480a",
   "metadata": {},
   "outputs": [],
   "source": []
  },
  {
   "cell_type": "markdown",
   "id": "cb3cb6b4",
   "metadata": {},
   "source": [
    "En utilisant la méthode hist(), afficher l'histogrammes de la variable 'culmen_length_mm' de la dataframe penguins_standardized.\n",
    "Quelle est la différence entre les 2 histogrammes?"
   ]
  },
  {
   "cell_type": "code",
   "execution_count": null,
   "id": "7b8d8c54",
   "metadata": {},
   "outputs": [],
   "source": []
  },
  {
   "cell_type": "markdown",
   "id": "b0befb75",
   "metadata": {},
   "source": [
    "Combien y a t il d'especes différences de penguin? Utilisez la méthode unique() sur la colonne species de penguins."
   ]
  },
  {
   "cell_type": "code",
   "execution_count": null,
   "id": "1b8bfb6c",
   "metadata": {},
   "outputs": [],
   "source": []
  },
  {
   "cell_type": "markdown",
   "id": "2e6b149a",
   "metadata": {},
   "source": [
    "A partir de penguins (pas standardisée), créez autant de dataframes qu'il y a d'especes. Chaque dataset ne contiendra que les données d'une espece. Utilisez la méthode query() de Pandas pour filtrer les données."
   ]
  },
  {
   "cell_type": "code",
   "execution_count": null,
   "id": "9b5af09d",
   "metadata": {},
   "outputs": [],
   "source": []
  },
  {
   "cell_type": "markdown",
   "id": "59e56aba",
   "metadata": {},
   "source": [
    "Sur une même figure, affichez les 3 histogrammes de culmen_length_mm. "
   ]
  },
  {
   "cell_type": "code",
   "execution_count": null,
   "id": "7568dafe",
   "metadata": {},
   "outputs": [],
   "source": []
  },
  {
   "cell_type": "markdown",
   "id": "861eb10d",
   "metadata": {},
   "source": [
    "Que remarquez vous?\n",
    "Faites de mêmes pour les 3 autres variables numériques"
   ]
  },
  {
   "cell_type": "code",
   "execution_count": null,
   "id": "b4b69365",
   "metadata": {},
   "outputs": [],
   "source": []
  },
  {
   "cell_type": "code",
   "execution_count": null,
   "id": "6c57f2f6",
   "metadata": {},
   "outputs": [],
   "source": []
  },
  {
   "cell_type": "code",
   "execution_count": null,
   "id": "b5ef6b91",
   "metadata": {},
   "outputs": [],
   "source": []
  },
  {
   "cell_type": "markdown",
   "id": "8293d6e3",
   "metadata": {},
   "source": [
    "Utilisez la méthode plot pour construire un graphique avec  body_mass_g en ordonné et flipper_length_mm en abscisse. \n",
    "\n",
    "Est-ce que ces 2 variables sont lineairement corrélées? Vérifiez cela en utilisant la méthode .corr() de Pandas."
   ]
  },
  {
   "cell_type": "code",
   "execution_count": null,
   "id": "2d89a221",
   "metadata": {},
   "outputs": [],
   "source": []
  },
  {
   "cell_type": "code",
   "execution_count": null,
   "id": "f61387d1",
   "metadata": {},
   "outputs": [],
   "source": []
  },
  {
   "cell_type": "markdown",
   "id": "9f81d37f",
   "metadata": {},
   "source": [
    "Y a t il d'autres variables corrélées? "
   ]
  },
  {
   "cell_type": "code",
   "execution_count": null,
   "id": "3dc1134e",
   "metadata": {},
   "outputs": [],
   "source": []
  },
  {
   "cell_type": "code",
   "execution_count": null,
   "id": "ee2c1e91",
   "metadata": {},
   "outputs": [],
   "source": []
  }
 ],
 "metadata": {
  "kernelspec": {
   "display_name": "Python 3 (ipykernel)",
   "language": "python",
   "name": "python3"
  },
  "language_info": {
   "codemirror_mode": {
    "name": "ipython",
    "version": 3
   },
   "file_extension": ".py",
   "mimetype": "text/x-python",
   "name": "python",
   "nbconvert_exporter": "python",
   "pygments_lexer": "ipython3",
   "version": "3.9.7"
  }
 },
 "nbformat": 4,
 "nbformat_minor": 5
}
