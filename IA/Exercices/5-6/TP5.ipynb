{
  "nbformat": 4,
  "nbformat_minor": 0,
  "metadata": {
    "colab": {
      "provenance": []
    },
    "kernelspec": {
      "name": "python3",
      "display_name": "Python 3"
    },
    "language_info": {
      "name": "python"
    }
  },
  "cells": [
    {
      "cell_type": "markdown",
      "source": [
        "# Partie 1. Pre-traitement du texte\n",
        "On commence par installer nlltk"
      ],
      "metadata": {
        "id": "IQP6DdqATTNw"
      }
    },
    {
      "cell_type": "code",
      "execution_count": 2,
      "metadata": {
        "id": "-sVkFZSRzo9V"
      },
      "outputs": [],
      "source": [
        "!pip install -q nltk # Ici l'option -q signifie une installation en mode \"silencieux\", c'est-à-dire sans afficher de messages à l'utilisateur pendant le processus d'installation."
      ]
    },
    {
      "cell_type": "markdown",
      "source": [
        "On importe nltk et download les données pour la **tokenisation** et **POS tagging** (fonctions grammaticales des mots)"
      ],
      "metadata": {
        "id": "d5SRqjXeTbXp"
      }
    },
    {
      "cell_type": "code",
      "source": [
        "%%capture\n",
        "import nltk\n",
        "# Données pour la Tokenisation\n",
        "nltk.download('punkt')\n",
        "# Données pour le pos_tagging\n",
        "nltk.download('averaged_perceptron_tagger')"
      ],
      "metadata": {
        "id": "HayCDTYu6VBW"
      },
      "execution_count": 3,
      "outputs": []
    },
    {
      "cell_type": "markdown",
      "source": [
        "Maintenant on test et on explore la **tokenisation** et **postag**"
      ],
      "metadata": {
        "id": "9YuzbDYNUHiP"
      }
    },
    {
      "cell_type": "code",
      "source": [
        "# Tokenisation\n",
        "text = nltk.word_tokenize(\"Now we are having a Computer Science class\")\n",
        "print(text)"
      ],
      "metadata": {
        "colab": {
          "base_uri": "https://localhost:8080/"
        },
        "id": "_eOFTLTM53eR",
        "outputId": "7f5fd80a-f8f6-4cd9-ade4-4c8f4aca7c39"
      },
      "execution_count": 4,
      "outputs": [
        {
          "output_type": "stream",
          "name": "stdout",
          "text": [
            "['Now', 'we', 'are', 'having', 'a', 'Computer', 'Science', 'class']\n"
          ]
        }
      ]
    },
    {
      "cell_type": "code",
      "source": [
        "# Pos tagging\n",
        "nltk.pos_tag(text)"
      ],
      "metadata": {
        "colab": {
          "base_uri": "https://localhost:8080/"
        },
        "id": "SLni8SOs57j6",
        "outputId": "e5f0047a-82fb-40ed-e76b-6292f113947f"
      },
      "execution_count": 5,
      "outputs": [
        {
          "output_type": "execute_result",
          "data": {
            "text/plain": [
              "[('Now', 'RB'),\n",
              " ('we', 'PRP'),\n",
              " ('are', 'VBP'),\n",
              " ('having', 'VBG'),\n",
              " ('a', 'DT'),\n",
              " ('Computer', 'NNP'),\n",
              " ('Science', 'NNP'),\n",
              " ('class', 'NN')]"
            ]
          },
          "metadata": {},
          "execution_count": 5
        }
      ]
    },
    {
      "cell_type": "markdown",
      "source": [
        "Maintenant on explore la **lemmatisation** et on importe les données pour utiliser *wordnet*\n",
        "\n",
        "*WordNet* est une base de données lexicale pour l'anglais qui organise les mots en synsets (ensembles de synonymes) et fournit des définitions, des exemples et des relations sémantiques pour chaque synset. *WordNet* est largement utilisé en traitement automatique du langage naturel pour la recherche d'informations, la classification de textes, la génération de textes, etc."
      ],
      "metadata": {
        "id": "Nwd3zBYlUzJZ"
      }
    },
    {
      "cell_type": "code",
      "source": [
        "%%capture\n",
        "nltk.download('wordnet')\n",
        "nltk.download('omw-1.4')"
      ],
      "metadata": {
        "id": "o8LkBSfU7QNV"
      },
      "execution_count": 6,
      "outputs": []
    },
    {
      "cell_type": "markdown",
      "source": [
        "On test et observe la **lemmatisation**"
      ],
      "metadata": {
        "id": "nzSP7pvOWfCI"
      }
    },
    {
      "cell_type": "code",
      "source": [
        "from nltk.stem import WordNetLemmatizer\n",
        "from nltk import word_tokenize,pos_tag\n",
        "text = \"She jumped into the river and breathed heavily\"\n",
        "wordnet = WordNetLemmatizer()\n",
        "for token,tag in pos_tag(word_tokenize(text)):\n",
        "  pos=tag[0].lower()\n",
        "  # Certains tokens peuvent avoir une étiquette PoS qui n'est pas reconnue par WordNet (par exemple, une abréviation ou une faute de frappe). \n",
        "  # Dans ce cas, la variable pos est initialisée à 'n', qui correspond à la classe nominale par défaut de WordNet\n",
        "  if pos not in ['a', 'r', 'n', 'v']:\n",
        "      pos='n'\n",
        "  # On print le mot et son lem\n",
        "  print(token,\"--->\",wordnet.lemmatize(token,pos))"
      ],
      "metadata": {
        "colab": {
          "base_uri": "https://localhost:8080/"
        },
        "id": "ZEHIH39S6odR",
        "outputId": "4d2ae743-c4da-4a78-c4b6-f655b3b89025"
      },
      "execution_count": 7,
      "outputs": [
        {
          "output_type": "stream",
          "name": "stdout",
          "text": [
            "She ---> She\n",
            "jumped ---> jump\n",
            "into ---> into\n",
            "the ---> the\n",
            "river ---> river\n",
            "and ---> and\n",
            "breathed ---> breathe\n",
            "heavily ---> heavily\n"
          ]
        }
      ]
    },
    {
      "cell_type": "markdown",
      "source": [
        "# Partie 2. Entrainer des word embeddings et tester des similarités entre vecteurs"
      ],
      "metadata": {
        "id": "xrj39T_k7eS5"
      }
    },
    {
      "cell_type": "markdown",
      "source": [
        "## 1. Entrainer un word embedding avec le Corpus Brown :\n",
        "On commence par télécharger les données du corpus \"Brown\", un des premiers grands corpus textuels de l'anglais américain compilé pour la recherche linguistique et la recherche d'informations.\n",
        "\n",
        "Il contient environ un million de mots issus de différents genres de textes, tels que la fiction, le journalisme, l'essai et la science. Le corpus est étiqueté par parties du discours (PoS) et divisé en différentes catégories de texte, telles que \"news\", \"editorial\", \"reviews\", \"religion\", \"science_fiction\", etc."
      ],
      "metadata": {
        "id": "HKuq-sAQXdUm"
      }
    },
    {
      "cell_type": "code",
      "source": [
        "%%capture\n",
        "nltk.download('brown')"
      ],
      "metadata": {
        "id": "jGEGjSEj7pha"
      },
      "execution_count": 8,
      "outputs": []
    },
    {
      "cell_type": "markdown",
      "source": [
        "Le code suivant importe le module \"gensim\" pour la création et l'entraînement de modèles de plongement de mots, ainsi que le corpus \"brown\" du module \"nltk\". Il utilise ensuite la méthode \"Word2Vec\" de gensim pour créer un modèle Word2Vec à partir des phrases du corpus brown.\n",
        "\n",
        "Plus précisément, le modèle Word2Vec est un algorithme d'**apprentissage non supervisé** qui apprend à associer des vecteurs de nombres réels à chaque mot du corpus d'entraînement. Ces vecteurs sont appelés des embeddings de mots et sont utilisés pour représenter les mots sous forme de vecteurs de dimensions numériques. Ces vecteurs sont utiles pour effectuer diverses tâches de traitement du langage naturel, telles que la classification de texte, l'extraction d'entités, la traduction automatique, etc."
      ],
      "metadata": {
        "id": "PCwzvN86YHZW"
      }
    },
    {
      "cell_type": "code",
      "source": [
        "import gensim\n",
        "from nltk.corpus import brown\n",
        "# On entraine !\n",
        "model = gensim.models.Word2Vec(brown.sents())"
      ],
      "metadata": {
        "id": "dCt_zDLY6vX2"
      },
      "execution_count": 9,
      "outputs": []
    },
    {
      "cell_type": "markdown",
      "source": [
        "Étant donné que le modèle est \"long\" à entraîner, on le sauvegarde.\n",
        "On utilise cette sauvegarde pour réutiliser le modèle ultérieurement."
      ],
      "metadata": {
        "id": "dq2kTYAPYeUB"
      }
    },
    {
      "cell_type": "code",
      "source": [
        "# On sauvegarde\n",
        "model.save('brown.embedding')\n",
        "# On charge la sauvegarde\n",
        "new_model = gensim.models.Word2Vec.load('brown.embedding')"
      ],
      "metadata": {
        "id": "EFP_jpYo7lkO"
      },
      "execution_count": 10,
      "outputs": []
    },
    {
      "cell_type": "markdown",
      "source": [
        "Maintenant on prends le temps d'explorer"
      ],
      "metadata": {
        "id": "lR5bqtXQY0rS"
      }
    },
    {
      "cell_type": "code",
      "source": [
        "# La taille d'un vecteur\n",
        "print(len(new_model['university']))\n",
        "# La representation du mot 'university'\n",
        "print(new_model['university'])"
      ],
      "metadata": {
        "colab": {
          "base_uri": "https://localhost:8080/"
        },
        "id": "WAMrR3IU8OVS",
        "outputId": "2ddf87d6-9e11-43d0-a7f7-69f238dac1d9"
      },
      "execution_count": 11,
      "outputs": [
        {
          "output_type": "stream",
          "name": "stdout",
          "text": [
            "100\n",
            "[ 0.12555143 -0.0623934  -0.03653385 -0.13876745 -0.03573856 -0.08012074\n",
            " -0.02278885  0.17444013 -0.06433694  0.03028158  0.11789345  0.28632113\n",
            "  0.04683851  0.436556   -0.25011522  0.07407623 -0.19327909  0.11985175\n",
            " -0.17241243  0.07649083  0.40144134  0.16669758  0.11313651 -0.07734692\n",
            " -0.2216643   0.04703184 -0.1090385  -0.02720771 -0.13618475  0.2512347\n",
            "  0.22633949  0.42360598 -0.11265956  0.1980687  -0.30285636 -0.1586942\n",
            "  0.28792506 -0.37871134 -0.14767848  0.24333042  0.0788818   0.02269176\n",
            "  0.24943529  0.11559835 -0.08711872 -0.5213468   0.07595067 -0.2959178\n",
            "  0.1813407   0.09926674  0.20706636 -0.08216842 -0.11674975 -0.21265936\n",
            " -0.51164705  0.1305294  -0.05855278  0.07282172  0.03007292 -0.14196752\n",
            "  0.12004539  0.00698918  0.10253377  0.7662148   0.22856776  0.2190086\n",
            "  0.15703022 -0.01625313 -0.08566366 -0.0936983   0.00165387 -0.12280919\n",
            " -0.08180519 -0.03428808 -0.00714266  0.2233936  -0.28423518  0.00512157\n",
            "  0.37232563 -0.0199152  -0.37750196  0.28269774 -0.48729187 -0.21374814\n",
            "  0.02361294  0.11844741  0.07806866 -0.0045739  -0.15147302 -0.35109758\n",
            " -0.40445694  0.15459748 -0.15917122  0.23314023 -0.09216803  0.09398783\n",
            "  0.33118984 -0.050605    0.15525474  0.12443869]\n"
          ]
        },
        {
          "output_type": "stream",
          "name": "stderr",
          "text": [
            "<ipython-input-11-42b64bfae4bb>:2: DeprecationWarning: Call to deprecated `__getitem__` (Method will be removed in 4.0.0, use self.wv.__getitem__() instead).\n",
            "  print(len(new_model['university']))\n",
            "<ipython-input-11-42b64bfae4bb>:4: DeprecationWarning: Call to deprecated `__getitem__` (Method will be removed in 4.0.0, use self.wv.__getitem__() instead).\n",
            "  print(new_model['university'])\n"
          ]
        }
      ]
    },
    {
      "cell_type": "code",
      "source": [
        "# On test des mots similaires\n",
        "print(new_model.similarity('university','school') > 0.3)"
      ],
      "metadata": {
        "colab": {
          "base_uri": "https://localhost:8080/"
        },
        "id": "aRhPRT8D9fvF",
        "outputId": "51465a3b-b7e3-4e02-ee9b-2e6657e46011"
      },
      "execution_count": 12,
      "outputs": [
        {
          "output_type": "stream",
          "name": "stdout",
          "text": [
            "True\n"
          ]
        },
        {
          "output_type": "stream",
          "name": "stderr",
          "text": [
            "<ipython-input-12-0ba79cce8ab9>:2: DeprecationWarning: Call to deprecated `similarity` (Method will be removed in 4.0.0, use self.wv.similarity() instead).\n",
            "  print(new_model.similarity('university','school') > 0.3)\n"
          ]
        }
      ]
    },
    {
      "cell_type": "markdown",
      "source": [
        "## 2. Utiliser le modèle pre-trained:"
      ],
      "metadata": {
        "id": "rmi95HFT93Q9"
      }
    },
    {
      "cell_type": "markdown",
      "source": [
        "On télécharge les fichier pour utiliser le modèle Word2Vec pré-entraîné"
      ],
      "metadata": {
        "id": "deakB9llZkNB"
      }
    },
    {
      "cell_type": "code",
      "source": [
        "%%capture\n",
        "nltk.download('word2vec_sample')"
      ],
      "metadata": {
        "id": "LBsi4X5A-AMD"
      },
      "execution_count": 13,
      "outputs": []
    },
    {
      "cell_type": "markdown",
      "source": [
        "On charge le modèle"
      ],
      "metadata": {
        "id": "SBuamU9SZ3F4"
      }
    },
    {
      "cell_type": "code",
      "source": [
        "from nltk.data import find\n",
        "# La méthode find() pour trouver le chemin d'accès au fichier texte \"pruned.word2vec.txt\" qui contient les vecteurs d'embedding de mots pré-entraînés du modèle Word2Vec.\n",
        "word2vec_sample = str(find('models/word2vec_sample/pruned.word2vec.txt'))\n",
        "# La méthode load_word2vec_format() de gensim pour charger les vecteurs d'embedding de mots à partir du fichier texte précédemment localisé.\n",
        "model = gensim.models.KeyedVectors.load_word2vec_format(word2vec_sample,binary=False)"
      ],
      "metadata": {
        "id": "U5yl7BXY9t65"
      },
      "execution_count": 14,
      "outputs": []
    },
    {
      "cell_type": "markdown",
      "source": [
        "On trouve les n premiers mots qui sont similaires à \"university\". Le résultat est la liste de n mots avec le score"
      ],
      "metadata": {
        "id": "q9cGHY7AacEB"
      }
    },
    {
      "cell_type": "code",
      "source": [
        "print(model.most_similar(positive=[\"university\"], topn = 3))"
      ],
      "metadata": {
        "colab": {
          "base_uri": "https://localhost:8080/"
        },
        "id": "w2VRotCo9-Os",
        "outputId": "6fcb5442-66d0-416a-f27b-d37c810b5329"
      },
      "execution_count": 15,
      "outputs": [
        {
          "output_type": "stream",
          "name": "stdout",
          "text": [
            "[('universities', 0.7003918886184692), ('faculty', 0.6780906915664673), ('undergraduate', 0.6587096452713013)]\n"
          ]
        }
      ]
    },
    {
      "cell_type": "code",
      "source": [
        "# Avec cette méthode d'embedding, le mot 'man' est plus proche que 'girl' du mot 'woman' 😬\n",
        "print(model.most_similar(positive=[\"woman\"], topn = 5))\n",
        "# Ici on remarque qu'on obtient des résultats pertinents avec cette approche \"basique\"\n",
        "print(model.most_similar(positive=[\"king\"], topn = 5))"
      ],
      "metadata": {
        "colab": {
          "base_uri": "https://localhost:8080/"
        },
        "id": "evBYscTd_hsY",
        "outputId": "ad3ebe23-2f98-4023-aee2-7f78e1c58699"
      },
      "execution_count": 16,
      "outputs": [
        {
          "output_type": "stream",
          "name": "stdout",
          "text": [
            "[('man', 0.7664012908935547), ('girl', 0.749464213848114), ('teenager', 0.6317084431648254), ('lady', 0.628878653049469), ('mother', 0.6076303720474243)]\n",
            "[('kings', 0.7138044834136963), ('queen', 0.6510958075523376), ('monarch', 0.6413194537162781), ('prince', 0.6159992814064026), ('ruler', 0.5797565579414368)]\n"
          ]
        }
      ]
    },
    {
      "cell_type": "markdown",
      "source": [
        "Jouons un peu avec les mots"
      ],
      "metadata": {
        "id": "rbp3LkzKbS0L"
      }
    },
    {
      "cell_type": "code",
      "source": [
        "print(model.most_similar(positive=['woman','king'], negative=['man'], topn = 1))\n",
        "print(model.most_similar(positive=['Paris','Germany'], negative=['Berlin'],topn = 1))"
      ],
      "metadata": {
        "colab": {
          "base_uri": "https://localhost:8080/"
        },
        "id": "ouML3rw1-LWq",
        "outputId": "af346bc7-8bf3-4627-d266-3819436823e6"
      },
      "execution_count": 17,
      "outputs": [
        {
          "output_type": "stream",
          "name": "stdout",
          "text": [
            "[('queen', 0.7118192911148071)]\n",
            "[('France', 0.7884092330932617)]\n"
          ]
        }
      ]
    },
    {
      "cell_type": "markdown",
      "source": [
        "## 3. Visualisation des embeddings."
      ],
      "metadata": {
        "id": "Kdiie8lM-f_s"
      }
    },
    {
      "cell_type": "code",
      "source": [
        "import numpy as np\n",
        "import gensim\n",
        "from sklearn.decomposition import PCA\n",
        "from sklearn.manifold import TSNE\n",
        "import matplotlib.pyplot as plt\n",
        "\n",
        "# Initialize variables for storing labels and vectors\n",
        "labels = []\n",
        "count = 0\n",
        "max_count = 1000\n",
        "X = np.zeros(shape=(max_count, len(model['university'])))\n",
        "\n",
        "# Iterate over the vocabulary to get labels and vectors\n",
        "for term in model.vocab:\n",
        "    X[count] = model[term]\n",
        "    labels.append(term)\n",
        "    count += 1\n",
        "    if count >= max_count: \n",
        "        break\n",
        "\n",
        "# Reduce dimensionality with PCA\n",
        "pca = PCA(n_components=50)\n",
        "X_50 = pca.fit_transform(X)\n",
        "\n",
        "# Further reduce dimensionality with t-SNE\n",
        "model_tsne = TSNE(n_components=2, random_state=0)\n",
        "Y = model_tsne.fit_transform(X_50)\n",
        "\n",
        "# Plot the scatter plot\n",
        "plt.scatter(Y[:, 0], Y[:, 1], 20)\n",
        "\n",
        "# Add labels to the scatter plot\n",
        "for label, x, y in zip(labels, Y[:, 0], Y[:, 1]):\n",
        "    plt.annotate(label, xy=(x, y), xytext=(0, 0), textcoords='offset points', size=10)\n",
        "\n",
        "plt.show()\n"
      ],
      "metadata": {
        "colab": {
          "base_uri": "https://localhost:8080/",
          "height": 265
        },
        "id": "QGecCK2udFuk",
        "outputId": "ecd8229a-0977-4da2-a7f2-7625ac136657"
      },
      "execution_count": 18,
      "outputs": [
        {
          "output_type": "display_data",
          "data": {
            "text/plain": [
              "<Figure size 432x288 with 1 Axes>"
            ],
            "image/png": "[encoded data removed]"
          },
          "metadata": {
            "needs_background": "light"
          }
        }
      ]
    },
    {
      "cell_type": "markdown",
      "source": [
        "# Partie 3. Classification des textes : analyse de sentiments"
      ],
      "metadata": {
        "id": "0MEYJk7dd1Sl"
      }
    },
    {
      "cell_type": "code",
      "source": [
        "import nltk\n",
        "import numpy  as np\n",
        "import pandas as pd\n",
        "from sklearn.metrics import classification_report\n",
        "from sklearn.preprocessing import LabelBinarizer\n",
        "from sklearn.neural_network import MLPClassifier\n",
        "from sklearn.model_selection import train_test_split\n",
        "from sklearn.feature_extraction.text import CountVectorizer\n",
        "import re\n",
        "# On tokenise nous même avec un espace blanc ou un caractère de ponctuation (\\b)\n",
        "token_pattern = re.compile(r'(?u)\\b\\w\\w+\\b')\n",
        "tokenizer = token_pattern.findall"
      ],
      "metadata": {
        "id": "iaWP6wCBdh_J"
      },
      "execution_count": 19,
      "outputs": []
    },
    {
      "cell_type": "markdown",
      "source": [
        "On télécharge le dataset (https://www.kaggle.com/datasets/sbhatti/financial-sentiment-analysis?resource=download) et ajoute son path (ou autre méthode pour charger le fichier avec pandas)\n",
        "\n",
        "## 1. Préparation de données\n",
        "\n",
        "Dans mon cas je dépose mon fichier dans mon drive et renseigne le path pour y acceder."
      ],
      "metadata": {
        "id": "YRE6VeCufOqX"
      }
    },
    {
      "cell_type": "code",
      "source": [
        "from google.colab import drive\n",
        "drive.mount('/content/drive')"
      ],
      "metadata": {
        "colab": {
          "base_uri": "https://localhost:8080/"
        },
        "id": "OlPBG1KMfOWV",
        "outputId": "86b814bb-b723-4931-8d66-c4e61470c82d"
      },
      "execution_count": 20,
      "outputs": [
        {
          "output_type": "stream",
          "name": "stdout",
          "text": [
            "Mounted at /content/drive\n"
          ]
        }
      ]
    },
    {
      "cell_type": "code",
      "source": [
        "path_data = \"/content/drive/MyDrive/PhD/Activities/Enseignements/Fabron DUT2 - Introduction IA/TP5/data.csv\""
      ],
      "metadata": {
        "id": "iTtL3qZwfYFA"
      },
      "execution_count": 21,
      "outputs": []
    },
    {
      "cell_type": "markdown",
      "source": [
        "On importe le dataset CSV fourni en utilisant pandas et on affiche les 10 premiers échantillons"
      ],
      "metadata": {
        "id": "oASBtKarf7gr"
      }
    },
    {
      "cell_type": "code",
      "source": [
        "# TODO"
      ],
      "metadata": {
        "id": "jhwUOKlmeduF"
      },
      "execution_count": 22,
      "outputs": []
    },
    {
      "cell_type": "markdown",
      "source": [
        "On encode les sentiments en utilisant LabelBinarizer pour avoir un encodage OneHot."
      ],
      "metadata": {
        "id": "54N4rVKYgWIb"
      }
    },
    {
      "cell_type": "code",
      "source": [
        "# TODO"
      ],
      "metadata": {
        "id": "xlNzLkdKfw23"
      },
      "execution_count": 23,
      "outputs": []
    },
    {
      "cell_type": "code",
      "source": [
        "# TODO On explore"
      ],
      "metadata": {
        "id": "7XbXF7E1gju5"
      },
      "execution_count": 24,
      "outputs": []
    },
    {
      "cell_type": "markdown",
      "source": [
        "On divise le dataset en entrainement et test, en utilisant train_test_split, la taille du test est 30% et random_state=0.\n",
        "\n",
        "### Rappel:\n",
        "Dans le contexte de l'apprentissage automatique supervisé, X représente les variables explicatives (ou caractéristiques) du jeu de données et y représente la variable cible (ou réponse) que nous cherchons à prédire."
      ],
      "metadata": {
        "id": "cOEcAoJXiXJM"
      }
    },
    {
      "cell_type": "code",
      "source": [
        "# TODO"
      ],
      "metadata": {
        "id": "7AL-DR9EhIuD"
      },
      "execution_count": 25,
      "outputs": []
    },
    {
      "cell_type": "markdown",
      "source": [
        "On entraine un modèle de vectorisation TF sur le texte d’entrainement et le vectorise. Idem pour le text de test"
      ],
      "metadata": {
        "id": "PbkE_Vy6m4eW"
      }
    },
    {
      "cell_type": "code",
      "source": [
        "# TODO"
      ],
      "metadata": {
        "id": "hbJfkkoLiQW1"
      },
      "execution_count": 28,
      "outputs": []
    },
    {
      "cell_type": "markdown",
      "source": [
        "On télécharge encore des données, les stop words en anglais cette fois ci "
      ],
      "metadata": {
        "id": "ty-jbEICoeTw"
      }
    },
    {
      "cell_type": "code",
      "source": [
        "%%capture\n",
        "nltk.download('stopwords')"
      ],
      "metadata": {
        "id": "FrCSKcc4n7Xq"
      },
      "execution_count": null,
      "outputs": []
    },
    {
      "cell_type": "markdown",
      "source": [
        "On crée notre fonction **tokenstem** (tokenisation + remove stopwords + stemmisation)"
      ],
      "metadata": {
        "id": "BodZ73SBov5p"
      }
    },
    {
      "cell_type": "code",
      "source": [
        "def tokenstem(text):\n",
        "    # TODO\n",
        "    return"
      ],
      "metadata": {
        "id": "XWiKRoF0kExU"
      },
      "execution_count": 30,
      "outputs": []
    },
    {
      "cell_type": "markdown",
      "source": [
        "On test note superbe fonction **tokenstem**"
      ],
      "metadata": {
        "id": "9XLgL1MGopgx"
      }
    },
    {
      "cell_type": "code",
      "source": [
        "# TODO on explore"
      ],
      "metadata": {
        "id": "cFxbQ5A4nrHf"
      },
      "execution_count": 31,
      "outputs": []
    },
    {
      "cell_type": "markdown",
      "source": [
        "On re-entraine avec notre fonction tokenstem et la limite de features à 3000"
      ],
      "metadata": {
        "id": "SsWceJfppgo5"
      }
    },
    {
      "cell_type": "code",
      "source": [
        "# TODO"
      ],
      "metadata": {
        "id": "V_RO3YVnnvke"
      },
      "execution_count": 32,
      "outputs": []
    },
    {
      "cell_type": "markdown",
      "source": [
        "## 2. Entrainement\n",
        "Maintenant que nous avons entrainer une representation de nos mots, il faut entrainer un model qui les utilise afin de faire des prédictions."
      ],
      "metadata": {
        "id": "AT5dwFmxpxp-"
      }
    },
    {
      "cell_type": "markdown",
      "source": [
        "On implemente un SVM avec la première méthode d'entrainement des embeddings"
      ],
      "metadata": {
        "id": "zOXPEmFruRvB"
      }
    },
    {
      "cell_type": "code",
      "source": [
        "# TODO"
      ],
      "metadata": {
        "id": "CVZZ_ApyptE5"
      },
      "execution_count": 33,
      "outputs": []
    },
    {
      "cell_type": "markdown",
      "source": [
        "On affiche le résultat "
      ],
      "metadata": {
        "id": "qe6SAyHJuWYb"
      }
    },
    {
      "cell_type": "code",
      "source": [
        "# TODO"
      ],
      "metadata": {
        "id": "Id-NL6d6s_aA"
      },
      "execution_count": 34,
      "outputs": []
    },
    {
      "cell_type": "markdown",
      "source": [
        "On test avec notre seconde méthode custom avec la tokenisation tokenstem"
      ],
      "metadata": {
        "id": "Tmyix_9-uZMG"
      }
    },
    {
      "cell_type": "code",
      "source": [
        "# TODO"
      ],
      "metadata": {
        "id": "x7NcNk3guNYi"
      },
      "execution_count": 35,
      "outputs": []
    },
    {
      "cell_type": "code",
      "source": [
        "# TODO"
      ],
      "metadata": {
        "id": "bi_TOrifujrl"
      },
      "execution_count": 36,
      "outputs": []
    },
    {
      "cell_type": "code",
      "source": [],
      "metadata": {
        "id": "IBs8hQa-unQk"
      },
      "execution_count": null,
      "outputs": []
    }
  ]
}