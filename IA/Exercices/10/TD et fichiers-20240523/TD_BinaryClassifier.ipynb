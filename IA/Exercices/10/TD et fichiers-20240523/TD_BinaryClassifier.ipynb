{
 "cells": [
  {
   "cell_type": "markdown",
   "id": "e5afd470",
   "metadata": {},
   "source": [
    "# TP base de l'IA: application de l'IA dans le domaine de la chimie\n",
    "\n",
    "Il existe plusieurs applications de l'intelligence artificielle dans le domaine de la chimie. Le domaine de la chimie comprend entre autres, les laboratoires pharmaceutiques, de cosmétiques, de produits phytosanitaires. \n",
    "\n",
    "Comme dans n'importe quelle domaine, grâce à l'IA on peut créer de modèles :\n",
    "- de classification, pour prédire la classe d'une molécule. Par exemple, est ce que ma molécule est toxique ou non ?\n",
    "- de régression, pour prédire une valeur. Par exemple, a quelle concentration une molécule est active ?\n",
    "- de clusterisation, pour grouper les molécules qui se ressemblent\n",
    "- génératifs, pour créer des molécules ayant certaines propriétés. \n",
    "\n",
    "Dans ce TP , nous allons créer des modèles de classification pour prédire la toxicité aigüe d'une molécule. \n",
    "La toxicité aigüe d'une molécule, est l'effet toxique d'une molécule après une absorption unique d'une certaine dose du composé chimique. \n",
    "En particulier, un des effets toxiques aigue mesuré est la létalité. Pour évaluer cette toxicité, historiquement l'industrie chimique utilise des animaux (études in vivo). Depuis plusieurs années, pour des raisons éthiques, mais aussi économiques, des modèles appelés 'in silico', c'est à dire utilisant les ordinateurs sont utilisés. \n",
    "Nous allons travailler sur un modèle dit 'in silico', pour prédire si une molécule est toxique ou non.\n",
    "\n",
    "Le jeu de données que nous allons utiliser provient du projet Catmos, une collaboration de plusieurs laboratoires du monde entier pour créer un modéle in silico pour la prédiction de la toxicité aigüe. Voir https://doi.org/10.1289/EHP8495 "
   ]
  },
  {
   "cell_type": "markdown",
   "id": "3d4264e4",
   "metadata": {},
   "source": [
    "# Installation de rdkit\n",
    "\n",
    "Pour travailler sur des molécules, nous allons installer le package python rdkit. Il permet de visualiser des molécules, et de créer un vecteur binaire décrivant une molécule. "
   ]
  },
  {
   "cell_type": "code",
   "execution_count": null,
   "id": "8f33aa7f",
   "metadata": {
    "scrolled": true
   },
   "outputs": [],
   "source": [
    "# pip install rdkit"
   ]
  },
  {
   "cell_type": "markdown",
   "id": "678fb266",
   "metadata": {},
   "source": [
    "Une molécule est une structure en 3 dimensions faite d'atome, mais sa structure en 2 dimensions est suffisante pour créer des modéles de prédiction. Une facon de décrire la structure en 2 dimensions d'une molécule, est d'utiliser la notation 'smiles'.(https://fr.wikipedia.org/wiki/Simplified_Molecular_Input_Line_Entry_Specification). \n",
    "\n",
    "Vous pouvez trouver toutes les molecules publiques sur pubchem: https://pubchem.ncbi.nlm.nih.gov/\n",
    "\n",
    "Cherchez l'aspirine (aspirin en anglais) et trouvez sa notation 'smiles' (rechercher \"Canonical SMILES\" sur la page pubchem sur l'aspirine. La notation smiles est une chaîne de caractéres. "
   ]
  },
  {
   "cell_type": "code",
   "execution_count": 1,
   "id": "1501a0bb",
   "metadata": {
    "scrolled": true
   },
   "outputs": [],
   "source": [
    "smiles_apirin = \"\""
   ]
  },
  {
   "cell_type": "markdown",
   "id": "254c75a4",
   "metadata": {},
   "source": [
    "Nous allons maintenant afficher la molécule de l'aspirine avec le package rdkit"
   ]
  },
  {
   "cell_type": "code",
   "execution_count": null,
   "id": "4218442b",
   "metadata": {
    "scrolled": true
   },
   "outputs": [],
   "source": [
    "from rdkit import Chem\n",
    "from rdkit.Chem import Draw\n",
    "# on crée un objet rdkit à partir de la notation smiles de l'aspirine\n",
    "m = Chem.MolFromSmiles(smiles_apirin)\n",
    "# on dessine la molécule\n",
    "Draw.MolToImage(m)"
   ]
  },
  {
   "cell_type": "markdown",
   "id": "c69ad48d",
   "metadata": {},
   "source": [
    "rdkit permet de 'vectoriser' une molécule. Rdkit propose plusieurs façons de le faire, nous allons utiliser ce que l'on appelle le morgan fingerprint d'une molécule: c'est une description de la molécule sur un vecteur binaire de 1024 bits. "
   ]
  },
  {
   "cell_type": "code",
   "execution_count": 4,
   "id": "ff95d350",
   "metadata": {
    "scrolled": true
   },
   "outputs": [],
   "source": [
    "from rdkit.Chem import AllChem\n",
    "import numpy as np\n",
    "# on crée le fingerprint sur 1024 bits\n",
    "fp1 = AllChem.GetMorganFingerprintAsBitVect(m,2,nBits=1024)\n",
    "# on récupére le vecteur binaire\n",
    "aspirin_fp = np.array(fp1)"
   ]
  },
  {
   "cell_type": "markdown",
   "id": "c7abcef0",
   "metadata": {},
   "source": [
    "AfficheZ le vecteur binaire. Quelle est sa longueur. Quelles sont les valeurs possibles de chaque colonne?"
   ]
  },
  {
   "cell_type": "markdown",
   "id": "b0dc134b",
   "metadata": {},
   "source": [
    "## Préparation du jeu de données\n",
    "\n",
    "Nous allons préparer un jeu de données que nous allons utiliser pour créer des modèles de prediction de toxicité. "
   ]
  },
  {
   "cell_type": "markdown",
   "id": "a54be8ea",
   "metadata": {},
   "source": [
    "Utilisez pandas pour créer une dataframe à partir du fichier 'chemicalToxicity.csv'. "
   ]
  },
  {
   "cell_type": "code",
   "execution_count": 3,
   "id": "23cea94c",
   "metadata": {
    "scrolled": true
   },
   "outputs": [],
   "source": []
  },
  {
   "cell_type": "markdown",
   "id": "2d1c2a1a",
   "metadata": {},
   "source": [
    "Combien y a-t-il de molécules? \n",
    "\n",
    "Combien de molécules trés toxiques? \n",
    "\n",
    "Combien de molécules non trés toxiques? \n",
    "\n",
    "Est-ce qu'il y a autant de produits trés toxiques et non trés toxiques?"
   ]
  },
  {
   "cell_type": "code",
   "execution_count": null,
   "id": "5092303a",
   "metadata": {
    "scrolled": true
   },
   "outputs": [],
   "source": []
  },
  {
   "cell_type": "markdown",
   "id": "e919de47",
   "metadata": {},
   "source": [
    "En utilisant une list comprehension (https://docs.python.org/3/tutorial/datastructures.html)  et rdkit, créez une liste de fingerprint des molécules à partir des smiles des molécules (colonne 'Canonical_QSARr'). "
   ]
  },
  {
   "cell_type": "code",
   "execution_count": 14,
   "id": "c5eee733",
   "metadata": {
    "scrolled": true
   },
   "outputs": [],
   "source": []
  },
  {
   "cell_type": "markdown",
   "id": "b1c57aa5",
   "metadata": {},
   "source": [
    "Transformez cette liste en numpy array et ensuite en dataframe. \n",
    "Concaténez ensuite cette dataframe avec le jeu de données, afin de rajouter 1024 colonnes au jeu de données."
   ]
  },
  {
   "cell_type": "code",
   "execution_count": 19,
   "id": "8e02bfd7",
   "metadata": {
    "scrolled": true
   },
   "outputs": [],
   "source": [
    "chemicalToxicity_fp = "
   ]
  },
  {
   "cell_type": "code",
   "execution_count": null,
   "id": "c407f31d",
   "metadata": {
    "scrolled": true
   },
   "outputs": [],
   "source": [
    "chemicalToxicity_fp.head()"
   ]
  },
  {
   "cell_type": "markdown",
   "id": "a5bb884e",
   "metadata": {},
   "source": [
    "## Représentation 2D des similarités entre molécules\n",
    "\n",
    "Nous allons représenter en 2D la similarité des molécules en utilisant l'alogithme du TSNE, et le package seaborn pour l'affichage. \n",
    "\n",
    "Utiliser la fonction TSNE de sickit learn pour calculer les coordonnées en 2 dimensions de la similarité entre molécules, en utilsant la distance euclidienne et en utilisant les vecteur sur 1024 bits des molécules. "
   ]
  },
  {
   "cell_type": "code",
   "execution_count": 22,
   "id": "3557c70d",
   "metadata": {
    "scrolled": true
   },
   "outputs": [],
   "source": []
  },
  {
   "cell_type": "markdown",
   "id": "1a98b407",
   "metadata": {},
   "source": [
    "Installez seaborn. \n",
    "\n",
    "Utilisez scatterplot pour afficher les molécules avec les coordonnées du TSNE. Colorez les points en utilisant la valeur de la colonne 'very_toxic'."
   ]
  },
  {
   "cell_type": "code",
   "execution_count": null,
   "id": "2f3ef74f",
   "metadata": {
    "scrolled": true
   },
   "outputs": [],
   "source": []
  },
  {
   "cell_type": "markdown",
   "id": "feb2fd08",
   "metadata": {},
   "source": [
    "Avez vous l'impression que les molécules qui se ressemblent (c'est à dire proches sur le graphe) ont la même toxicité? \n",
    "Pour vous en convaincre, refaite le même graphe, mais cette fois-ci mélanger aléatoirement les lignes de la colonne 'very_toxic' avec la méthode sample de pandas. "
   ]
  },
  {
   "cell_type": "code",
   "execution_count": null,
   "id": "37acb58a",
   "metadata": {
    "scrolled": true
   },
   "outputs": [],
   "source": []
  },
  {
   "cell_type": "markdown",
   "id": "389055e0",
   "metadata": {},
   "source": [
    "Refaite un graphique, mais cette fois en calculant les coordonnées TSNE avec la distance cosinus"
   ]
  },
  {
   "cell_type": "code",
   "execution_count": null,
   "id": "38245788",
   "metadata": {
    "scrolled": true
   },
   "outputs": [],
   "source": []
  },
  {
   "cell_type": "markdown",
   "id": "6dcddd1f",
   "metadata": {},
   "source": [
    "Avez vous l'impression que les molécules qui se ressemblent (c'est à dire proche sur le graphe) ont la même toxicité? "
   ]
  },
  {
   "cell_type": "markdown",
   "id": "641de220",
   "metadata": {},
   "source": [
    "## Modèle de classification\n",
    "\n",
    "Nous allons créer un modèle de classification pour prédire la toxicité de molécules. "
   ]
  },
  {
   "cell_type": "markdown",
   "id": "1ee7e4bb",
   "metadata": {},
   "source": [
    "Création d'un training set et testing set avec train_test_split(X, y) de sickit learn, gardant 20% des données pour le test set. "
   ]
  },
  {
   "cell_type": "code",
   "execution_count": 31,
   "id": "fb1257cd",
   "metadata": {
    "scrolled": true
   },
   "outputs": [],
   "source": []
  },
  {
   "cell_type": "markdown",
   "id": "0b56b8c4",
   "metadata": {},
   "source": [
    "Utilisez l'algorithme KNN (KNeighborsClassifier de Sickit learn) avec comme parametres: \n",
    "n_neighbors  = 1\n",
    "metric = euclidean\n",
    "\n",
    "Entrainez le modèle avec X_train et y_train. \n",
    "\n",
    "Prédisez les classes du test set avec X_test. \n",
    "\n",
    "Utilisez accuracy_score de sickit learn pour calculer l'accuracy du modéle en utisant y_test et les prédictions. \n",
    "\n",
    "Metric pour mesurer la performance du modele: accuracy, entre 0 et 1. \n",
    "0: le model n'est pas bon\n",
    "1: le model classifie parfaitement"
   ]
  },
  {
   "cell_type": "code",
   "execution_count": null,
   "id": "27f8a55d",
   "metadata": {
    "scrolled": true
   },
   "outputs": [],
   "source": []
  },
  {
   "cell_type": "markdown",
   "id": "ad737e99",
   "metadata": {},
   "source": [
    "Quelle aurait été l'accuracy si on avait assigné aléatoirement une classe à chaque molécule. Vous pouvez utiliser la méthode sample d'une dataframe pandas pour 'mélanger' aléatoirement l'ordre des lignes."
   ]
  },
  {
   "cell_type": "code",
   "execution_count": null,
   "id": "e36e1e3f",
   "metadata": {
    "scrolled": true
   },
   "outputs": [],
   "source": []
  },
  {
   "cell_type": "markdown",
   "id": "7b21d195",
   "metadata": {},
   "source": [
    "Est-ce un bon modèle?"
   ]
  },
  {
   "cell_type": "code",
   "execution_count": null,
   "id": "a1f29fea",
   "metadata": {
    "scrolled": true
   },
   "outputs": [],
   "source": []
  },
  {
   "cell_type": "markdown",
   "id": "e0df5150",
   "metadata": {},
   "source": [
    "### Explication de l'algorithme. \n",
    "KNN est trés simple. Pour classifier une nouvelle molécule, l'algorithme  recherche la molécule la plus proche (plus courte distance). La classe de la molécule la plus proche est assignée à la molécule à classiffier. \n",
    "\n",
    "Travaillons sur un exemple: la molécule ayant le CASRN 824-11-3."
   ]
  },
  {
   "cell_type": "markdown",
   "id": "f50a1490",
   "metadata": {},
   "source": [
    "Trouvez cette molécule dans le jeu de données. \n",
    "Quel est son smiles? \n",
    "Quelle est sa toxicité?"
   ]
  },
  {
   "cell_type": "code",
   "execution_count": null,
   "id": "d96e619e",
   "metadata": {},
   "outputs": [],
   "source": []
  },
  {
   "cell_type": "markdown",
   "id": "41843d31",
   "metadata": {},
   "source": [
    "En utilisant son Morgan fingerprint (les 1024 valeurs binaires), calculez toutes les distances euclidiennes entre cette molécule et toutes les autres molécules (en utilisant scipy.spatial)\n",
    "\n",
    "Trouvez la molécule la plus proche de notre molécule. \n",
    "\n",
    "Utilisez rdkit pour afficher notre molécule et sa plus proche molécule. Est-ce que les 2 molécules se ressemblent? \n",
    "\n",
    "Quelle est la classe de la plus proche molécule? \n",
    "\n",
    "Pour classifier notre molécule, KNN va lui donner la classe de la plus proche molécule. Dans cet exemple, est-ce que la classification est correcte?  "
   ]
  },
  {
   "cell_type": "code",
   "execution_count": null,
   "id": "5bdd3e49",
   "metadata": {
    "scrolled": true
   },
   "outputs": [],
   "source": []
  },
  {
   "cell_type": "code",
   "execution_count": null,
   "id": "fe830b09",
   "metadata": {
    "scrolled": true
   },
   "outputs": [],
   "source": []
  },
  {
   "cell_type": "code",
   "execution_count": null,
   "id": "0fb7427b",
   "metadata": {
    "scrolled": true
   },
   "outputs": [],
   "source": []
  },
  {
   "cell_type": "markdown",
   "id": "414dfe00",
   "metadata": {},
   "source": [
    "Faites la même chose mais cette fois ci avec la distance cosine. "
   ]
  },
  {
   "cell_type": "code",
   "execution_count": null,
   "id": "de53c294",
   "metadata": {
    "scrolled": true
   },
   "outputs": [],
   "source": []
  },
  {
   "cell_type": "code",
   "execution_count": null,
   "id": "bb1cddf3",
   "metadata": {
    "scrolled": true
   },
   "outputs": [],
   "source": []
  },
  {
   "cell_type": "markdown",
   "id": "044a4d9f",
   "metadata": {},
   "source": [
    "### On teste le modèle de classification sur un jeu de validation externe\n",
    "\n",
    "Le partage du jeu de données en training set et test set est utile pour le choix d'un algorithme de classification et pour le choix des paramètres de l'algorithme. Une fois le modèle prêt on teste une dernière fois sur un autre jeu de données. \n",
    "\n",
    "Créer une dataframe à partir du fichier 'very_toxic_eval_fp.csv'. Nommez la 'very_toxic_eval_fp'.\n",
    "Les fingerprint ont déjà été générés. "
   ]
  },
  {
   "cell_type": "code",
   "execution_count": 72,
   "id": "19a44388",
   "metadata": {
    "scrolled": true
   },
   "outputs": [],
   "source": []
  },
  {
   "cell_type": "markdown",
   "id": "c97b50a7",
   "metadata": {},
   "source": [
    "Utilisez votre modéle KNN pour prédire les classes des molécules de ce dataset"
   ]
  },
  {
   "cell_type": "code",
   "execution_count": 135,
   "id": "6b59856e",
   "metadata": {
    "scrolled": true
   },
   "outputs": [],
   "source": [
    "X_eval = "
   ]
  },
  {
   "cell_type": "code",
   "execution_count": null,
   "id": "7afe910e",
   "metadata": {
    "scrolled": true
   },
   "outputs": [],
   "source": []
  },
  {
   "cell_type": "code",
   "execution_count": 83,
   "id": "af8ea282",
   "metadata": {
    "scrolled": true
   },
   "outputs": [],
   "source": [
    "# on importe le script eval pour utiliser la fonction eval_accuracy qui va retourner l'accuracy des prédictions \n",
    "# (ceci a été fait dans le but de cacher les vrais classes, jouez le jeu et n'ouvrez pas le fichier eval.py)\n",
    "import eval\n",
    "eval.eval_accuracy (y_pred_eval)"
   ]
  },
  {
   "cell_type": "markdown",
   "id": "c0f75382",
   "metadata": {},
   "source": [
    "### On améliore le classifieur\n",
    "\n",
    "Essayez d'améliorer le classifieur :\n",
    "- en modifiant la valeur du nombre de voisins\n",
    "- en modifiant la distance utilisée (comme nous travaillons sur des vecteurs binaires, nous avons plus de choix dans les distances, voir la documentation sickit learn qui renvoie sur scipy)\n",
    "\n",
    "Procédez de la même façon : \n",
    "- vous créez un jeu de données training et un jeu de données test (déjà fait plus haut)\n",
    "- vous calculez l'accuracy sur le jeu de test\n",
    "- une fois que vous avez trouvé les paramètres qui donnent la meilleure accuracy sur le jeu de test, vous testez votre modèle sur le jeu de données évaluation.\n"
   ]
  },
  {
   "cell_type": "markdown",
   "id": "ac127cda",
   "metadata": {},
   "source": [
    "Avez vous de meilleurs résultats?"
   ]
  },
  {
   "cell_type": "markdown",
   "id": "ba617e5b",
   "metadata": {},
   "source": [
    "## On essaye d'autres algorithmes\n",
    "\n",
    "Maintenant essayez d'autres algorithmes de sickit learn. Par exemple RandomForestClassifier. Le principe dans sickit learn est toujours le même: \n",
    "- on entraine le modèle avec .fit sur le jeu de données training\n",
    "- on prédit avec le modèle les classes en utilisant les données de test\n",
    "- on compare les prédictions et les vraies classes en calculant l'accuracy. \n",
    "\n",
    "Avez-vous de meilleurs résultats? "
   ]
  },
  {
   "cell_type": "code",
   "execution_count": null,
   "id": "31aab48a",
   "metadata": {
    "scrolled": true
   },
   "outputs": [],
   "source": []
  },
  {
   "cell_type": "code",
   "execution_count": null,
   "id": "d7fd5559",
   "metadata": {
    "scrolled": true
   },
   "outputs": [],
   "source": []
  },
  {
   "cell_type": "code",
   "execution_count": null,
   "id": "f1f48e42",
   "metadata": {
    "scrolled": true
   },
   "outputs": [],
   "source": []
  },
  {
   "cell_type": "code",
   "execution_count": null,
   "id": "92f0e8e8",
   "metadata": {
    "scrolled": true
   },
   "outputs": [],
   "source": []
  },
  {
   "cell_type": "code",
   "execution_count": null,
   "id": "73510018",
   "metadata": {
    "scrolled": true
   },
   "outputs": [],
   "source": []
  },
  {
   "cell_type": "markdown",
   "id": "7923f813",
   "metadata": {},
   "source": [
    "## Ce que l'on peut encore faire\n",
    "- essayez le fingerprint sur plus de bits (2048)\n",
    "- essayer un autre type de fingerprint, par exemple Chem.RDKFingerprint(x)\n",
    "- faire de la reduction de dimensionalité: PCA, feature selection\n",
    "- couper le dataset plusieurs fois en training et testing sets: cross validation. Ceci permet d'avoir une meilleure estimation de la performance du modéle. "
   ]
  },
  {
   "cell_type": "code",
   "execution_count": 154,
   "id": "ddd3d8ab",
   "metadata": {
    "scrolled": true
   },
   "outputs": [],
   "source": []
  },
  {
   "cell_type": "markdown",
   "id": "59c12b78",
   "metadata": {},
   "source": [
    "## Utilisez votre meilleur modèle\n",
    " Allez sur pubchem https://pubchem.ncbi.nlm.nih.gov/, recherchez la molécule de votre choix. Récupérez son smiles, et générez le fingerprint. \n",
    "\n",
    "D'après votre modèle, est-ce que votre molécule est très toxique ?\n",
    "\n",
    "        "
   ]
  },
  {
   "cell_type": "code",
   "execution_count": null,
   "id": "16c92da7",
   "metadata": {},
   "outputs": [],
   "source": []
  },
  {
   "cell_type": "markdown",
   "id": "8a4bff35",
   "metadata": {},
   "source": [
    "Télécharger le csv 'last_eval.csv'. \n",
    "\n",
    "Faites les prédictions, et mettez les sur Moodle, sous la forme d'une liste. \n",
    "Exemple: \n",
    "\n",
    "[False, False, True, True, False, False, True, True, True, True,\n",
    "       False, True, False, True, False, False, False, True, True, False,\n",
    "       False, False, False, False, False, True, True, False, False, True,\n",
    "       False, True, True, False, False, False, False, True, False, True,\n",
    "       True, True, False, False, False, False, False, True, True, False,\n",
    "       False, True, True, True, True, False, False, False, True, False,\n",
    "       False, False, True, False, True, True, True, True, True, True,\n",
    "       True, False, True, True, False, False, True, False, False, False,\n",
    "       True, True, False, True, False, True, True, False, False, False,\n",
    "       False, True, False, True, True, True, True, True, True, False]"
   ]
  },
  {
   "cell_type": "code",
   "execution_count": null,
   "id": "4fc26fdd",
   "metadata": {},
   "outputs": [],
   "source": []
  }
 ],
 "metadata": {
  "kernelspec": {
   "display_name": "Python 3 (ipykernel)",
   "language": "python",
   "name": "python3"
  },
  "language_info": {
   "codemirror_mode": {
    "name": "ipython",
    "version": 3
   },
   "file_extension": ".py",
   "mimetype": "text/x-python",
   "name": "python",
   "nbconvert_exporter": "python",
   "pygments_lexer": "ipython3",
   "version": "3.9.7"
  }
 },
 "nbformat": 4,
 "nbformat_minor": 5
}
