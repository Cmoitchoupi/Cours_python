{
 "cells": [
  {
   "cell_type": "markdown",
   "id": "174f6b41",
   "metadata": {},
   "source": [
    "# Bases de l'IA TD3 Problem-solving\n",
    "\n",
    "\n",
    "Nous allons faire des expériences sur l’utilisation de l’algorithme A* pour résoudre un\n",
    "jeu de taquin de taille 3 × 3.\n"
   ]
  },
  {
   "cell_type": "markdown",
   "id": "0452220e",
   "metadata": {},
   "source": [
    "Le taquin est un jeu solitaire en forme de damier avec des tules glissantes numérotés, créé\n",
    "au XIX siècle aux États-Unis. Malgré sa simplicité apparente, ce casse-tête représente un objet\n",
    "d’étude intéressant pour la résolution de problèmes, car il a été démontré que le problème de\n",
    "trouver le plus court chemin pour arriver à la configuration gagnante est NP-difficile [1]. Nous\n",
    "allons nous concentrer sur la version de taille 3 × 3, la plus petite, qui néanmois a un espace de\n",
    "recherche de taille 9!/2.\n",
    "\n",
    "Un exemple ici: https://murhafsousli.github.io/8puzzle/#/"
   ]
  },
  {
   "cell_type": "markdown",
   "id": "fe212039",
   "metadata": {},
   "source": [
    "### eightpuzzle\n",
    "Python script for solving the classic \"8-puzzle\" game\n",
    "\n",
    "This is a python script for solving the tile sliding [8-puzzle game](https://en.wikipedia.org/wiki/15_puzzle).\n",
    "\n",
    "#### Capabilies\n",
    "\n",
    "It has the option of using one of two heuristics: \n",
    "\n",
    "1. Manhatten (\"taxi-cab\") distance\n",
    "\n",
    "2. Number of misplaced tiles.\n",
    "\n",
    "It can also print the output in one of two formats:\n",
    "\n",
    "1. Each state, including begining, intermediate and ending states.\n",
    "\n",
    "2. List of moves made, where `r`,`l`,`u`,`d` signify right, left, up, and down respectively. \n",
    "This is the direction an adjecent tile to the open space (`0`) is moved.\n",
    "\n",
    "#### Input format\n",
    "Input files are plain text, written as two lines: the start state and goal state.\n",
    "States are space-deliniated. They must include the numbers 0-8, where `0` represents the empty space, and `1`-`8` the 8 tiles of the puzzle.\n",
    "Here is an example of a properly formated state: \n",
    "\n",
    "```\n",
    "1 2 0 3 4 5 6 7 8\n",
    "```\n",
    "\n",
    "Are included two puzzle files in the repository. `puzzle02.txt` is very simple, requiring only two moves, while `puzzle20.txt` can solved in a minumum of twenty moves.\n",
    "\n",
    "#### How to run\n",
    "\n",
    "import the script as a library called 'ep'\n",
    "\n",
    "define the initial state: \n",
    "\n",
    "initial = ep.EightPuzzle('1 2 0 3 4 5 6 7 8')\n",
    "\n",
    "define the goal state\n",
    "\n",
    "goal = ep.EightPuzzle('0 1 2 3 4 5 6 7 8')\n",
    "\n",
    "define the heuristic you want to try\n",
    "\n",
    "heuristic = ep.EightPuzzle.manhatten_distance\n",
    "\n",
    "define the output\n",
    "\n",
    "output = ep.EightPuzzle.action_sequence\n",
    "\n",
    "call the method a_star\n",
    "\n",
    "print (initial.a_star(goal, heuristic, output))\n",
    "\n",
    "\n",
    "\n"
   ]
  },
  {
   "cell_type": "markdown",
   "id": "3894c79c",
   "metadata": {},
   "source": [
    "# Question\n",
    "Essayez d’exécuter le programme sur les deux exemples: \n",
    "\n",
    "- état initial: 1 2 0 3 4 5 6 7 8\n",
    "- goal: 0 1 2 3 4 5 6 7 8\n",
    "\n",
    "\n",
    "- état initial: 1 6 4 7 0 8 2 3 5\n",
    "- goal: 1 2 3 4 5 6 7 8 0"
   ]
  },
  {
   "cell_type": "markdown",
   "id": "a3e8d7fa",
   "metadata": {},
   "source": [
    "# Question\n",
    "Regardez le code et cherchez de comprendre, dans les grandes lignes, son fonctionnement.\n",
    "Vous observerez que le main lit l’état initial à partir de la console (standard input) et\n",
    "sélectionne les options spécifiées sur la ligne de commande. Le vrai travail de solution est\n",
    "fait par la méthode a_star de la classe EightPuzzle"
   ]
  },
  {
   "cell_type": "markdown",
   "id": "be658d38",
   "metadata": {},
   "source": [
    "# Question\n",
    "À partir de ce script, développez un script pour comparer les deux heuristiques implémentées. La comparaison se fera en générant des états initiaux au hasard, puis en\n",
    "chronométrant l’exécution de A* pour chaque état résoluble en utilisant l’une et l’autre\n",
    "heuristique (attention : pour qu’un état soit résoluble, sa parité doit être la même que\n",
    "celle de l’objectif ; si ce n’est pas le cas, la recherche se terminera par un échec."
   ]
  },
  {
   "cell_type": "code",
   "execution_count": null,
   "id": "b8a8f9d5",
   "metadata": {
    "scrolled": false
   },
   "outputs": [],
   "source": [
    "# code pour 50 permutations aléatoires\n",
    "initial = ep.EightPuzzle('1 2 3 4 5 6 7 8 0')\n",
    "for i in range(50):\n",
    "    initial = random.choice(initial.neighbors())[0]\n",
    "print (initial)"
   ]
  },
  {
   "cell_type": "markdown",
   "id": "4391c4ba",
   "metadata": {},
   "source": [
    "Pour chronométrer l’exécution du A*, vous pouvez utiliser le code suivant :\n",
    "import time\n",
    "...\n",
    "start_time = time.time()\n",
    "print initial.a_star(goal, h, output)\n",
    "temps_exec = time.time() - start_time"
   ]
  },
  {
   "cell_type": "markdown",
   "id": "0051853e",
   "metadata": {},
   "source": [
    "Calculez des statistiques du temps d’exécution pour les deux heuristiques et tirez-en des\n",
    "conclusions.\n",
    "Rédigez un document décrivant les expériences menées et vos observations.\n"
   ]
  },
  {
   "cell_type": "code",
   "execution_count": null,
   "id": "0938a432",
   "metadata": {},
   "outputs": [],
   "source": []
  }
 ],
 "metadata": {
  "kernelspec": {
   "display_name": "Python 3 (ipykernel)",
   "language": "python",
   "name": "python3"
  },
  "language_info": {
   "codemirror_mode": {
    "name": "ipython",
    "version": 3
   },
   "file_extension": ".py",
   "mimetype": "text/x-python",
   "name": "python",
   "nbconvert_exporter": "python",
   "pygments_lexer": "ipython3",
   "version": "3.9.7"
  }
 },
 "nbformat": 4,
 "nbformat_minor": 5
}
